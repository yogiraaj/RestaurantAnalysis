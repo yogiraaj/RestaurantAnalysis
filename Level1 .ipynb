{
 "cells": [
  {
   "cell_type": "markdown",
   "id": "3e8adc41",
   "metadata": {},
   "source": [
    "## Import All Modules & Libraries"
   ]
  },
  {
   "cell_type": "code",
   "execution_count": 3,
   "id": "8a0356da",
   "metadata": {},
   "outputs": [],
   "source": [
    "import pandas as pd\n",
    "import numpy as np\n",
    "import matplotlib.pyplot as plt"
   ]
  },
  {
   "cell_type": "markdown",
   "id": "d2b7d5a2",
   "metadata": {},
   "source": [
    "# Project Level 1: Data Analysis   \n",
    "\n",
    "## Overview  \n",
    "#### In this project, we will perform four key tasks related to restaurant data analysis. Each task will involve data processing, visualization, and insights generation.\n",
    "\n",
    "## Tasks to Perform  \n",
    "1  **Top Cuisines**  \n",
    "2  **City Analysis**  \n",
    "3  **Price Range Distribution**  \n",
    "4  **Online Distribution** "
   ]
  },
  {
   "cell_type": "code",
   "execution_count": 4,
   "id": "b00573ca",
   "metadata": {},
   "outputs": [],
   "source": [
    "# Import Data by using read.csv\n",
    "\n",
    "df = pd.read_csv('Dataset.csv')"
   ]
  },
  {
   "cell_type": "code",
   "execution_count": 5,
   "id": "90933c71",
   "metadata": {},
   "outputs": [
    {
     "name": "stdout",
     "output_type": "stream",
     "text": [
      "(9551, 21)\n"
     ]
    }
   ],
   "source": [
    "# Find the Shape of data( No of rows and colums)\n",
    "\n",
    "print(df.shape)"
   ]
  },
  {
   "cell_type": "code",
   "execution_count": 6,
   "id": "106bc9d3",
   "metadata": {},
   "outputs": [
    {
     "name": "stdout",
     "output_type": "stream",
     "text": [
      "Index(['Restaurant ID', 'Restaurant Name', 'Country Code', 'City', 'Address',\n",
      "       'Locality', 'Locality Verbose', 'Longitude', 'Latitude', 'Cuisines',\n",
      "       'Average Cost for two', 'Currency', 'Has Table booking',\n",
      "       'Has Online delivery', 'Is delivering now', 'Switch to order menu',\n",
      "       'Price range', 'Aggregate rating', 'Rating color', 'Rating text',\n",
      "       'Votes'],\n",
      "      dtype='object')\n"
     ]
    }
   ],
   "source": [
    "# Difine the Column Names\n",
    "\n",
    "print(df.columns)"
   ]
  },
  {
   "cell_type": "code",
   "execution_count": 7,
   "id": "97908d60",
   "metadata": {},
   "outputs": [
    {
     "name": "stdout",
     "output_type": "stream",
     "text": [
      "<class 'pandas.core.frame.DataFrame'>\n",
      "RangeIndex: 9551 entries, 0 to 9550\n",
      "Data columns (total 21 columns):\n",
      " #   Column                Non-Null Count  Dtype  \n",
      "---  ------                --------------  -----  \n",
      " 0   Restaurant ID         9551 non-null   int64  \n",
      " 1   Restaurant Name       9551 non-null   object \n",
      " 2   Country Code          9551 non-null   int64  \n",
      " 3   City                  9551 non-null   object \n",
      " 4   Address               9551 non-null   object \n",
      " 5   Locality              9551 non-null   object \n",
      " 6   Locality Verbose      9551 non-null   object \n",
      " 7   Longitude             9551 non-null   float64\n",
      " 8   Latitude              9551 non-null   float64\n",
      " 9   Cuisines              9542 non-null   object \n",
      " 10  Average Cost for two  9551 non-null   int64  \n",
      " 11  Currency              9551 non-null   object \n",
      " 12  Has Table booking     9551 non-null   object \n",
      " 13  Has Online delivery   9551 non-null   object \n",
      " 14  Is delivering now     9551 non-null   object \n",
      " 15  Switch to order menu  9551 non-null   object \n",
      " 16  Price range           9551 non-null   int64  \n",
      " 17  Aggregate rating      9551 non-null   float64\n",
      " 18  Rating color          9551 non-null   object \n",
      " 19  Rating text           9551 non-null   object \n",
      " 20  Votes                 9551 non-null   int64  \n",
      "dtypes: float64(3), int64(5), object(13)\n",
      "memory usage: 1.5+ MB\n"
     ]
    }
   ],
   "source": [
    "# Difine the Data ( Datatype, Columns, Nullvalues)\n",
    "\n",
    "df.info()"
   ]
  },
  {
   "cell_type": "markdown",
   "id": "97b7653c",
   "metadata": {},
   "source": [
    "## Task 1: Top Cuisines\n",
    "\n",
    "### (1) Determine the top 3 most common Cuisines in the dataset"
   ]
  },
  {
   "cell_type": "code",
   "execution_count": 8,
   "id": "7ad9dcc0",
   "metadata": {},
   "outputs": [
    {
     "name": "stdout",
     "output_type": "stream",
     "text": [
      "0             French, Japanese, Desserts\n",
      "1                               Japanese\n",
      "2       Seafood, Asian, Filipino, Indian\n",
      "3                        Japanese, Sushi\n",
      "4                       Japanese, Korean\n",
      "                      ...               \n",
      "9546                             Turkish\n",
      "9547     World Cuisine, Patisserie, Cafe\n",
      "9548              Italian, World Cuisine\n",
      "9549                     Restaurant Cafe\n",
      "9550                                Cafe\n",
      "Name: Cuisines, Length: 9551, dtype: object\n"
     ]
    }
   ],
   "source": [
    "print(df['Cuisines'])"
   ]
  },
  {
   "cell_type": "code",
   "execution_count": 9,
   "id": "286712fe",
   "metadata": {},
   "outputs": [
    {
     "name": "stdout",
     "output_type": "stream",
     "text": [
      "type_of_cuisines & count: Cuisines\n",
      "North Indian      3960\n",
      "Chinese           2735\n",
      "Fast Food         1986\n",
      "Mughlai            995\n",
      "Italian            764\n",
      "                  ... \n",
      "Fish and Chips       1\n",
      "Malwani              1\n",
      "Cuisine Varies       1\n",
      "Soul Food            1\n",
      "B�_rek               1\n",
      "Name: count, Length: 145, dtype: int64\n",
      "total_count:- 146\n",
      "['French' 'Japanese' 'Desserts' 'Seafood' 'Asian' 'Filipino' 'Indian'\n",
      " 'Sushi' 'Korean' 'Chinese' 'European' 'Mexican' 'American' 'Ice Cream'\n",
      " 'Cafe' 'Italian' 'Pizza' 'Bakery' 'Mediterranean' 'Fast Food' 'Brazilian'\n",
      " 'Arabian' 'Bar Food' 'Grill' 'International' 'Peruvian' 'Latin American'\n",
      " 'Burger' 'Juices' 'Healthy Food' 'Beverages' 'Lebanese' 'Sandwich'\n",
      " 'Steak' 'BBQ' 'Gourmet Fast Food' 'Mineira' 'North Eastern' nan\n",
      " 'Coffee and Tea' 'Vegetarian' 'Tapas' 'Breakfast' 'Diner' 'Southern'\n",
      " 'Southwestern' 'Spanish' 'Argentine' 'Caribbean' 'German' 'Vietnamese'\n",
      " 'Thai' 'Modern Australian' 'Teriyaki' 'Cajun' 'Canadian' 'Tex-Mex'\n",
      " 'Middle Eastern' 'Greek' 'Bubble Tea' 'Tea' 'Australian' 'Fusion' 'Cuban'\n",
      " 'Hawaiian' 'Salad' 'Irish' 'New American' 'Soul Food' 'Turkish'\n",
      " 'Pub Food' 'Persian' 'Continental' 'Singaporean' 'Malay' 'Cantonese'\n",
      " 'Dim Sum' 'Western' 'Finger Food' 'British' 'Deli' 'Indonesian'\n",
      " 'North Indian' 'Mughlai' 'Biryani' 'South Indian' 'Pakistani' 'Afghani'\n",
      " 'Hyderabadi' 'Rajasthani' 'Street Food' 'Goan' 'African' 'Portuguese'\n",
      " 'Gujarati' 'Armenian' 'Mithai' 'Maharashtrian' 'Modern Indian'\n",
      " 'Charcoal Grill' 'Malaysian' 'Burmese' 'Chettinad' 'Parsi' 'Tibetan'\n",
      " 'Raw Meats' 'Kerala' 'Belgian' 'Kashmiri' 'South American' 'Bengali'\n",
      " 'Iranian' 'Lucknowi' 'Awadhi' 'Nepalese' 'Drinks Only' 'Oriya' 'Bihari'\n",
      " 'Assamese' 'Andhra' 'Mangalorean' 'Malwani' 'Cuisine Varies' 'Moroccan'\n",
      " 'Naga' 'Sri Lankan' 'Peranakan' 'Sunda' 'Ramen' 'Kiwi' 'Asian Fusion'\n",
      " 'Taiwanese' 'Fish and Chips' 'Contemporary' 'Scottish' 'Curry'\n",
      " 'Patisserie' 'South African' 'Durban' 'Kebab' 'Turkish Pizza' 'Izgara'\n",
      " 'World Cuisine' 'D�_ner' 'Restaurant Cafe' 'B�_rek']\n"
     ]
    }
   ],
   "source": [
    "cuisine_count = df['Cuisines'].str.split(', ').explode('Cuisines').value_counts()\n",
    "print('type_of_cuisines & count:', cuisine_count)\n",
    "Unique_cuisine = df['Cuisines'].str.split(', ').explode('Cuisines').str.strip().unique()\n",
    "print('total_count:-', len(Unique_cuisine))\n",
    "print(Unique_cuisine)"
   ]
  },
  {
   "cell_type": "code",
   "execution_count": 10,
   "id": "62c9b5a2",
   "metadata": {},
   "outputs": [
    {
     "data": {
      "text/plain": [
       "'North Indian'"
      ]
     },
     "execution_count": 10,
     "metadata": {},
     "output_type": "execute_result"
    }
   ],
   "source": [
    "df['Cuisines'].mode()[0]"
   ]
  },
  {
   "cell_type": "code",
   "execution_count": 11,
   "id": "35b8ac68",
   "metadata": {},
   "outputs": [
    {
     "name": "stdout",
     "output_type": "stream",
     "text": [
      "Top 3 common Cuisines Cuisines\n",
      "North Indian    3960\n",
      "Chinese         2735\n",
      "Fast Food       1986\n",
      "Name: count, dtype: int64\n"
     ]
    }
   ],
   "source": [
    "top_cuisine=cuisine_count.head(3)\n",
    "print('Top 3 common Cuisines', top_cuisine)"
   ]
  },
  {
   "cell_type": "code",
   "execution_count": 12,
   "id": "4b923e25",
   "metadata": {},
   "outputs": [
    {
     "data": {
      "image/png": "[encoded data removed]",
      "text/plain": [
       "<Figure size 640x480 with 1 Axes>"
      ]
     },
     "metadata": {},
     "output_type": "display_data"
    }
   ],
   "source": [
    "plt.bar(top_cuisine.index, top_cuisine.values)\n",
    "plt.xlabel('Cuisines')\n",
    "plt.ylabel('Count')\n",
    "plt.title('Top 3 Cuisines')\n",
    "plt.show()"
   ]
  },
  {
   "cell_type": "markdown",
   "id": "bd7be20c",
   "metadata": {},
   "source": [
    "## Task 1: Top Cuisines\n",
    "\n",
    "### (2) Calculate the percentage of Restaurants that serve each top cuisines."
   ]
  },
  {
   "cell_type": "code",
   "execution_count": 13,
   "id": "e5ac7f74",
   "metadata": {},
   "outputs": [
    {
     "name": "stdout",
     "output_type": "stream",
     "text": [
      "Total Restaurants: 9551\n"
     ]
    }
   ],
   "source": [
    "no_of_restaurants = len(df)\n",
    "print('Total Restaurants:', no_of_restaurants)"
   ]
  },
  {
   "cell_type": "code",
   "execution_count": 14,
   "id": "4927d277",
   "metadata": {},
   "outputs": [
    {
     "name": "stdout",
     "output_type": "stream",
     "text": [
      "Top 5 Cuisines and their Percentage Share of Restaurants\n",
      "Cuisines\n",
      "North Indian    41.461627\n",
      "Chinese         28.635745\n",
      "Fast Food       20.793634\n",
      "Mughlai         10.417757\n",
      "Italian          7.999162\n",
      "Name: count, dtype: float64\n"
     ]
    }
   ],
   "source": [
    "top_cuisine5=cuisine_count.head()\n",
    "percentage = (top_cuisine5/no_of_restaurants)*100\n",
    "print('Top 5 Cuisines and their Percentage Share of Restaurants')\n",
    "print(percentage)"
   ]
  },
  {
   "cell_type": "code",
   "execution_count": 15,
   "id": "7c9d7039",
   "metadata": {},
   "outputs": [
    {
     "data": {
      "image/png": "[encoded data removed]",
      "text/plain": [
       "<Figure size 640x480 with 1 Axes>"
      ]
     },
     "metadata": {},
     "output_type": "display_data"
    }
   ],
   "source": [
    "plt.bar(top_cuisine5.index, percentage.values)\n",
    "plt.xlabel('Cuisine')\n",
    "plt.ylabel('Percentage')\n",
    "plt.title('Top 5 Cuisines Percent')\n",
    "plt.show()"
   ]
  },
  {
   "cell_type": "markdown",
   "id": "88600844",
   "metadata": {},
   "source": [
    "## Task 2: City Analysis\n",
    "\n",
    "### (1) Identify the city with the highest no of restaurant in trthe dataset."
   ]
  },
  {
   "cell_type": "code",
   "execution_count": 16,
   "id": "5462c444",
   "metadata": {},
   "outputs": [
    {
     "name": "stdout",
     "output_type": "stream",
     "text": [
      "City\n",
      "New Delhi    5473\n",
      "Name: count, dtype: int64\n"
     ]
    }
   ],
   "source": [
    "city_counts = df['City'].value_counts()\n",
    "print(city_counts.head(1))"
   ]
  },
  {
   "cell_type": "code",
   "execution_count": 17,
   "id": "36a472df",
   "metadata": {},
   "outputs": [
    {
     "name": "stdout",
     "output_type": "stream",
     "text": [
      "City has Highest No of Restaurant: New Delhi\n"
     ]
    }
   ],
   "source": [
    "print('City has Highest No of Restaurant:', city_counts.idxmax())"
   ]
  },
  {
   "cell_type": "markdown",
   "id": "9e11a4a2",
   "metadata": {},
   "source": [
    "## Task 2: City Analysis\n",
    "\n",
    "### (2) Calculate the avg rating of restaurant in each city."
   ]
  },
  {
   "cell_type": "code",
   "execution_count": 18,
   "id": "6afa54f9",
   "metadata": {},
   "outputs": [
    {
     "name": "stdout",
     "output_type": "stream",
     "text": [
      "Avg Rating of each City City\n",
      "Abu Dhabi          4.300000\n",
      "Agra               3.965000\n",
      "Ahmedabad          4.161905\n",
      "Albany             3.555000\n",
      "Allahabad          3.395000\n",
      "                     ...   \n",
      "Weirton            3.900000\n",
      "Wellington City    4.250000\n",
      "Winchester Bay     3.200000\n",
      "Yorkton            3.300000\n",
      "��stanbul          4.292857\n",
      "Name: Aggregate rating, Length: 141, dtype: float64\n"
     ]
    }
   ],
   "source": [
    "restaurant_rating_by_city = df.groupby('City')['Aggregate rating'].mean()\n",
    "print('Avg Rating of each City', restaurant_rating_by_city)"
   ]
  },
  {
   "cell_type": "markdown",
   "id": "947622f3",
   "metadata": {},
   "source": [
    "## Task 2: City Analysis\n",
    "\n",
    "### (3) Determine the City with the highest avg rating."
   ]
  },
  {
   "cell_type": "code",
   "execution_count": 19,
   "id": "65541e3b",
   "metadata": {},
   "outputs": [
    {
     "name": "stdout",
     "output_type": "stream",
     "text": [
      "Inner City\n",
      "4.9\n"
     ]
    }
   ],
   "source": [
    "print(restaurant_rating_by_city.idxmax())\n",
    "print(restaurant_rating_by_city.max())"
   ]
  },
  {
   "cell_type": "markdown",
   "id": "35dc709c",
   "metadata": {},
   "source": [
    "## Task 3: Price Range Distribution\n",
    "\n",
    "### (1) Create a histogram or bar chart to visualize the distribution of price ranges among the reasurants."
   ]
  },
  {
   "cell_type": "code",
   "execution_count": 20,
   "id": "1437d094",
   "metadata": {},
   "outputs": [
    {
     "data": {
      "image/png": "[encoded data removed]",
      "text/plain": [
       "<Figure size 640x480 with 1 Axes>"
      ]
     },
     "metadata": {},
     "output_type": "display_data"
    }
   ],
   "source": [
    "plt.hist(df['Price range'])\n",
    "plt.xlabel('Price range')\n",
    "plt.ylabel('Counts')\n",
    "plt.title('Distribute the Price Range')\n",
    "plt.show()"
   ]
  },
  {
   "cell_type": "markdown",
   "id": "220ff220",
   "metadata": {},
   "source": [
    "## Task 3: Price Range Distribution\n",
    "\n",
    "### (2) Calculate the percentage of restaurants in each city price range category."
   ]
  },
  {
   "cell_type": "code",
   "execution_count": 31,
   "id": "833b22f5",
   "metadata": {},
   "outputs": [
    {
     "name": "stdout",
     "output_type": "stream",
     "text": [
      "Price range\n",
      "1    4444\n",
      "2    3113\n",
      "3    1408\n",
      "4     586\n",
      "Name: count, dtype: int64 (Price range\n",
      "1    46.529159\n",
      "2    32.593446\n",
      "3    14.741912\n",
      "4     6.135483\n",
      "Name: count, dtype: float64, 2)\n"
     ]
    }
   ],
   "source": [
    "price_range_count=df['Price range'].value_counts()\n",
    "price_range_percentage = (price_range_count / len(df) * 100,2)\n",
    "print(price_range_count, price_range_percentage)"
   ]
  },
  {
   "cell_type": "markdown",
   "id": "3f55be43",
   "metadata": {},
   "source": [
    "## Task 4: Online Delivery\n",
    "\n",
    "### (1) Determine the Percentage of Restaurants that offer online delivery."
   ]
  },
  {
   "cell_type": "code",
   "execution_count": 22,
   "id": "ef8eacd7",
   "metadata": {},
   "outputs": [
    {
     "name": "stdout",
     "output_type": "stream",
     "text": [
      "No of Restaurant Provide Online delivery: 2451\n"
     ]
    }
   ],
   "source": [
    "online_delivery = df['Has Online delivery'].value_counts().get('Yes',0)\n",
    "print('No of Restaurant Provide Online delivery:', online_delivery)"
   ]
  },
  {
   "cell_type": "code",
   "execution_count": 23,
   "id": "d0278286",
   "metadata": {},
   "outputs": [
    {
     "name": "stdout",
     "output_type": "stream",
     "text": [
      "No of Restaurant Provide offline delivery: 7100\n"
     ]
    }
   ],
   "source": [
    "offline_delivery = df['Has Online delivery'].value_counts().get('No',0)\n",
    "print('No of Restaurant Provide offline delivery:', offline_delivery)"
   ]
  },
  {
   "cell_type": "code",
   "execution_count": 24,
   "id": "af5984a3",
   "metadata": {},
   "outputs": [
    {
     "name": "stdout",
     "output_type": "stream",
     "text": [
      "Percentage of restaurant provide online servise:- 25.7\n"
     ]
    }
   ],
   "source": [
    "percentage_onlinedelivery = round(online_delivery/len(df)*100,1)\n",
    "print('Percentage of restaurant provide online servise:-', percentage_onlinedelivery)"
   ]
  },
  {
   "cell_type": "code",
   "execution_count": 25,
   "id": "56389bfb",
   "metadata": {},
   "outputs": [
    {
     "name": "stdout",
     "output_type": "stream",
     "text": [
      "Percentage of restaurant provide offline servise:- 74.3\n"
     ]
    }
   ],
   "source": [
    "percentage_offlinedelivery = round(offline_delivery/len(df)*100,1)\n",
    "print('Percentage of restaurant provide offline servise:-',percentage_offlinedelivery)"
   ]
  },
  {
   "cell_type": "code",
   "execution_count": 32,
   "id": "60c608e9",
   "metadata": {},
   "outputs": [
    {
     "data": {
      "image/png": "[encoded data removed]",
      "text/plain": [
       "<Figure size 640x480 with 1 Axes>"
      ]
     },
     "metadata": {},
     "output_type": "display_data"
    }
   ],
   "source": [
    "lables = ['Yes', 'No']\n",
    "count_delivery = [online_delivery,offline_delivery]\n",
    "colors='red', 'blue'\n",
    "plt.bar(lables, count_delivery, color=colors)\n",
    "plt.xlabel('Delivery Type')\n",
    "plt.ylabel('Counts')\n",
    "plt.title('Comparison between online & offline delivery Count')\n",
    "plt.show()"
   ]
  },
  {
   "cell_type": "markdown",
   "id": "1b974fb3",
   "metadata": {},
   "source": [
    "## Task 4: Online Delivery\n",
    "\n",
    "### (2) Compare the Online rating of restaurant with and without online delivery."
   ]
  },
  {
   "cell_type": "code",
   "execution_count": 26,
   "id": "ca4b1dcb",
   "metadata": {},
   "outputs": [
    {
     "name": "stdout",
     "output_type": "stream",
     "text": [
      "Avg rating of online delivery restaurants:- 3.2\n"
     ]
    }
   ],
   "source": [
    "avg_ratingforYes = round(df[df['Has Online delivery'] == 'Yes']['Aggregate rating'].mean(),1)   \n",
    "print('Avg rating of online delivery restaurants:-', avg_ratingforYes)"
   ]
  },
  {
   "cell_type": "code",
   "execution_count": 27,
   "id": "d45b9ba1",
   "metadata": {},
   "outputs": [
    {
     "name": "stdout",
     "output_type": "stream",
     "text": [
      "Avg rating of offline delivery restaurants:- 2.5\n"
     ]
    }
   ],
   "source": [
    "avg_ratingforNo = round(df[df['Has Online delivery'] == 'No']['Aggregate rating'].mean(),1)   \n",
    "print('Avg rating of offline delivery restaurants:-', avg_ratingforNo)"
   ]
  },
  {
   "cell_type": "code",
   "execution_count": 28,
   "id": "4830cc68",
   "metadata": {},
   "outputs": [
    {
     "data": {
      "image/png": "[encoded data removed]",
      "text/plain": [
       "<Figure size 640x480 with 1 Axes>"
      ]
     },
     "metadata": {},
     "output_type": "display_data"
    }
   ],
   "source": [
    "lables = ['Yes', 'No']\n",
    "average_rating = [avg_ratingforYes,avg_ratingforNo]\n",
    "colors='red', 'blue'\n",
    "plt.bar(lables, average_rating, color=colors)\n",
    "plt.xlabel('Online delivery servise')\n",
    "plt.ylabel('Average rating')\n",
    "plt.title('Comparison between online & offline delivery Rating percentage')\n",
    "plt.show()"
   ]
  }
 ],
 "metadata": {
  "kernelspec": {
   "display_name": "Python 3 (ipykernel)",
   "language": "python",
   "name": "python3"
  },
  "language_info": {
   "codemirror_mode": {
    "name": "ipython",
    "version": 3
   },
   "file_extension": ".py",
   "mimetype": "text/x-python",
   "name": "python",
   "nbconvert_exporter": "python",
   "pygments_lexer": "ipython3",
   "version": "3.10.5"
  }
 },
 "nbformat": 4,
 "nbformat_minor": 5
}
